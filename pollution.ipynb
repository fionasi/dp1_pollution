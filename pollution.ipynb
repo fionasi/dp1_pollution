{
 "cells": [
  {
   "cell_type": "code",
   "execution_count": 36,
   "metadata": {},
   "outputs": [],
   "source": [
    "import pandas as pd\n",
    "\n",
    "pollution = pd.read_csv('./data/pollution_us_2000_2016.csv.tar.gz')\n",
    "pollution = pollution.drop(pollution.columns[0], axis=1)"
   ]
  },
  {
   "cell_type": "code",
   "execution_count": 39,
   "metadata": {},
   "outputs": [
    {
     "name": "stdout",
     "output_type": "stream",
     "text": [
      "Number of rows with missings: 1309785\n",
      "Number of rows in the dataset: 1746661\n"
     ]
    },
    {
     "data": {
      "text/plain": [
       "State Code                0\n",
       "County Code               0\n",
       "Site Num                  0\n",
       "Address                   0\n",
       "State                     0\n",
       "County                    0\n",
       "City                      0\n",
       "Date Local                0\n",
       "NO2 Units                 0\n",
       "NO2 Mean                  0\n",
       "NO2 1st Max Value         0\n",
       "NO2 1st Max Hour          0\n",
       "NO2 AQI                   0\n",
       "O3 Units                  0\n",
       "O3 Mean                   0\n",
       "O3 1st Max Value          0\n",
       "O3 1st Max Hour           0\n",
       "O3 AQI                    0\n",
       "SO2 Units                 0\n",
       "SO2 Mean                  0\n",
       "SO2 1st Max Value         0\n",
       "SO2 1st Max Hour          0\n",
       "SO2 AQI              872907\n",
       "CO Units                  0\n",
       "CO Mean                   0\n",
       "CO 1st Max Value          0\n",
       "CO 1st Max Hour           0\n",
       "CO AQI               873323\n",
       "dtype: int64"
      ]
     },
     "execution_count": 39,
     "metadata": {},
     "output_type": "execute_result"
    }
   ],
   "source": [
    "# --- Missing values analysis ---\n",
    "\n",
    "# Get all rows that contain at least one NaN\n",
    "missings = pollution[pollution.isna().any(axis=1)]\n",
    "\n",
    "# How many observations with missings are there?\n",
    "print(\"Number of rows with missings: \" + str(len(missings)))\n",
    "print(\"Number of rows in the dataset: \" + str(len(pollution)))\n",
    "\n",
    "# Get missings count for all axes\n",
    "# Apparently only SO2 AQI and CO AQI include missing values\n",
    "# We shall see if we can impute those later\n",
    "# As we can already observe, the missings of those 2 columns seem\n",
    "# to originate mostly from different observations\n",
    "axis_counts = missings.count(axis = 0).rsub(len(missings))\n",
    "axis_counts"
   ]
  },
  {
   "cell_type": "code",
   "execution_count": null,
   "metadata": {},
   "outputs": [],
   "source": []
  }
 ],
 "metadata": {
  "kernelspec": {
   "display_name": "Python [conda env:dp1_pollution]",
   "language": "python",
   "name": "conda-env-dp1_pollution-py"
  },
  "language_info": {
   "codemirror_mode": {
    "name": "ipython",
    "version": 3
   },
   "file_extension": ".py",
   "mimetype": "text/x-python",
   "name": "python",
   "nbconvert_exporter": "python",
   "pygments_lexer": "ipython3",
   "version": "3.6.3"
  }
 },
 "nbformat": 4,
 "nbformat_minor": 2
}
