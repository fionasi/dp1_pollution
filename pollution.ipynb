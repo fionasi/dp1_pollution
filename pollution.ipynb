{
 "cells": [
  {
   "cell_type": "code",
   "execution_count": 17,
   "metadata": {},
   "outputs": [],
   "source": [
    "import pandas as pd\n",
    "\n",
    "pollution = pd.read_csv('./data/pollution_us_2000_2016.csv.tar.gz')\n",
    "pollution = pollution.drop(pollution.columns[0], axis=1)"
   ]
  },
  {
   "cell_type": "code",
   "execution_count": 18,
   "metadata": {},
   "outputs": [
    {
     "data": {
      "text/plain": [
       "State Code           float64\n",
       "County Code          float64\n",
       "Site Num             float64\n",
       "Address               object\n",
       "State                 object\n",
       "County                object\n",
       "City                  object\n",
       "Date Local            object\n",
       "NO2 Units             object\n",
       "NO2 Mean             float64\n",
       "NO2 1st Max Value    float64\n",
       "NO2 1st Max Hour     float64\n",
       "NO2 AQI              float64\n",
       "O3 Units              object\n",
       "O3 Mean              float64\n",
       "O3 1st Max Value     float64\n",
       "O3 1st Max Hour      float64\n",
       "O3 AQI               float64\n",
       "SO2 Units             object\n",
       "SO2 Mean             float64\n",
       "SO2 1st Max Value    float64\n",
       "SO2 1st Max Hour     float64\n",
       "SO2 AQI              float64\n",
       "CO Units              object\n",
       "CO Mean              float64\n",
       "CO 1st Max Value     float64\n",
       "CO 1st Max Hour      float64\n",
       "CO AQI               float64\n",
       "dtype: object"
      ]
     },
     "execution_count": 18,
     "metadata": {},
     "output_type": "execute_result"
    }
   ],
   "source": [
    "pollution.dtypes"
   ]
  },
  {
   "cell_type": "code",
   "execution_count": null,
   "metadata": {},
   "outputs": [],
   "source": []
  },
  {
   "cell_type": "code",
   "execution_count": null,
   "metadata": {},
   "outputs": [],
   "source": []
  }
 ],
 "metadata": {
  "kernelspec": {
   "display_name": "Python [conda env:dp1_pollution]",
   "language": "python",
   "name": "conda-env-dp1_pollution-py"
  },
  "language_info": {
   "codemirror_mode": {
    "name": "ipython",
    "version": 3
   },
   "file_extension": ".py",
   "mimetype": "text/x-python",
   "name": "python",
   "nbconvert_exporter": "python",
   "pygments_lexer": "ipython3",
   "version": "3.6.3"
  }
 },
 "nbformat": 4,
 "nbformat_minor": 2
}
